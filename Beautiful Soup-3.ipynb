{
  "nbformat": 4,
  "nbformat_minor": 0,
  "metadata": {
    "colab": {
      "name": "Zigram-3.ipynb",
      "provenance": [],
      "authorship_tag": "ABX9TyMEkCPfvtBY5aECPgcVr2NN",
      "include_colab_link": true
    },
    "kernelspec": {
      "name": "python3",
      "display_name": "Python 3"
    },
    "language_info": {
      "name": "python"
    }
  },
  "cells": [
    {
      "cell_type": "markdown",
      "metadata": {
        "id": "view-in-github",
        "colab_type": "text"
      },
      "source": [
        "<a href=\"https://colab.research.google.com/github/Akhilesh53/WebScrapping/blob/main/Beautiful%20Soup-3.ipynb\" target=\"_parent\"><img src=\"https://colab.research.google.com/assets/colab-badge.svg\" alt=\"Open In Colab\"/></a>"
      ]
    },
    {
      "cell_type": "markdown",
      "source": [
        "In this file, we will extract the data present in all the pages page 1, 2, 3, 4\n",
        "Also, we extract the data present in the lab name which is a link => so extract from that link too"
      ],
      "metadata": {
        "id": "guoQ-TQ7psvH"
      }
    },
    {
      "cell_type": "code",
      "execution_count": 1,
      "metadata": {
        "id": "AZgP9PuecNix"
      },
      "outputs": [],
      "source": [
        "import requests\n",
        "from bs4 import BeautifulSoup\n",
        "import pandas as pd\n",
        "import re"
      ]
    },
    {
      "cell_type": "code",
      "source": [
        "lis = [dict()]"
      ],
      "metadata": {
        "id": "_uDzrnoKk-yP"
      },
      "execution_count": 2,
      "outputs": []
    },
    {
      "cell_type": "code",
      "source": [
        "bad_chars = [';',',', '.', '(', ')','-']"
      ],
      "metadata": {
        "id": "17hza8Z2k258"
      },
      "execution_count": 3,
      "outputs": []
    },
    {
      "cell_type": "code",
      "source": [
        "for t in range(4):\n",
        "    url = \"https://www.ams.usda.gov/rules-regulations/hemp/dea-laboratories?field_lab_location_administrative_area=All&page=\"+str(t)\n",
        "    req = requests.get(url)\n",
        "    soup = BeautifulSoup(req.text,\"html.parser\")\n",
        "    #print(soup.prettify())\n",
        "    tb = soup.find(\"tbody\")\n",
        "\n",
        "    for t in tb.find_all(\"tr\"):\n",
        "      i=0;\n",
        "      dic = dict()\n",
        "      for d in t.find_all(\"td\"):\n",
        "        if i==0:\n",
        "          dic[\"Lab Name\"] = d.text\n",
        "          for l in d.find_all(\"a\",href=True):\n",
        "            if(l.text):\n",
        "              link = l['href']\n",
        "              link = \"https://www.ams.usda.gov/\"+link\n",
        "          \n",
        "      \n",
        "          req2 = requests.get(link)\n",
        "          soup2 = BeautifulSoup(req2.text,\"html.parser\")\n",
        "          #print(\"prettify\")\n",
        "      \n",
        "          lc =soup2.find(\"div\",attrs={\"class\":\"field field--name-field-lab-location field--type-address field--label-above\"})\n",
        "          address = lc.find(\"span\",attrs={\"class\":\"address-line1\"})\n",
        "          #print(address.text)\n",
        "\n",
        "          locality =lc.find(\"span\",attrs={\"class\":\"locality\"})\n",
        "          #print(locality.text)\n",
        "\n",
        "          admin =lc.find(\"span\",attrs={\"class\":\"administrative-area\"})\n",
        "          #print(admin.text)\n",
        "\n",
        "          postal =lc.find(\"span\",attrs={\"class\":\"postal-code\"})\n",
        "          #print(postal.text)\n",
        "\n",
        "          country =lc.find(\"span\",attrs={\"class\":\"country\"})\n",
        "          #print(country.text)\n",
        "\n",
        "          dic[\"Lab Location\"] = address.text + \" \" + locality.text + \" \" + admin.text + \" \" + postal.text + \" \" + country.text \n",
        "      \n",
        "          if(soup2.find(\"div\",attrs={\"class\":\"field field--name-field-phone-number field--type-string field--label-above\"})):\n",
        "            dic[\"Phone Number\"] = soup2.find(\"div\",attrs={\"class\":\"field field--name-field-phone-number field--type-string field--label-above\"}).find(\"div\",attrs={\"class\":\"field__item\"}).text\n",
        "          else:\n",
        "            dic[\"Phone Number\"]= \"No Content\"\n",
        "          \n",
        "          if(soup2.find(\"div\",attrs={\"class\":\"field field--name-field-contact field--type-string field--label-above\"})):\n",
        "            dic[\"Contact\"] = soup2.find(\"div\",attrs={\"class\":\"field field--name-field-contact field--type-string field--label-above\"}).find(\"div\",attrs={\"class\":\"field__item\"}).text\n",
        "          else:\n",
        "            dic[\"Contact\"] = \"No content\"\n",
        "\n",
        "          if(soup2.find(\"div\",attrs={\"class\":\"field field--name-field-contact-email field--type-email field--label-above\"})):\n",
        "            dic[\"Email\"] = soup2.find(\"div\",attrs={\"class\":\"field field--name-field-contact-email field--type-email field--label-above\"}).find(\"div\",attrs={\"class\":\"field__item\"}).text\n",
        "          else:\n",
        "            dic[\"Email\"] = \"No Content\"\n",
        "\n",
        "    \n",
        "          #print(link)\n",
        "          i =(i+1)%3\n",
        "        elif i==1:\n",
        "          #print(d.text)\n",
        "          dic[\"City\"] = d.text\n",
        "\n",
        "      lis.append(dic)\n"
      ],
      "metadata": {
        "id": "Hhv2FygWcUbE"
      },
      "execution_count": 4,
      "outputs": []
    },
    {
      "cell_type": "code",
      "source": [
        "del lis[0:1]"
      ],
      "metadata": {
        "id": "Lo3V05fMpR0G"
      },
      "execution_count": 6,
      "outputs": []
    },
    {
      "cell_type": "code",
      "source": [
        "print(len(lis))"
      ],
      "metadata": {
        "colab": {
          "base_uri": "https://localhost:8080/"
        },
        "id": "0dqbsyLbpDql",
        "outputId": "5d05a940-b6af-4d04-d431-5311257ec6ad"
      },
      "execution_count": 7,
      "outputs": [
        {
          "output_type": "stream",
          "name": "stdout",
          "text": [
            "78\n"
          ]
        }
      ]
    },
    {
      "cell_type": "code",
      "source": [
        "df = pd.DataFrame(lis)\n",
        "df"
      ],
      "metadata": {
        "colab": {
          "base_uri": "https://localhost:8080/",
          "height": 624
        },
        "id": "DWzSJuvppXtm",
        "outputId": "3ce8d4fa-c19c-41a9-aae0-d4be5eaeab0b"
      },
      "execution_count": 9,
      "outputs": [
        {
          "output_type": "execute_result",
          "data": {
            "text/html": [
              "\n",
              "  <div id=\"df-644a29fc-0be9-438b-b493-1e98371c4bce\">\n",
              "    <div class=\"colab-df-container\">\n",
              "      <div>\n",
              "<style scoped>\n",
              "    .dataframe tbody tr th:only-of-type {\n",
              "        vertical-align: middle;\n",
              "    }\n",
              "\n",
              "    .dataframe tbody tr th {\n",
              "        vertical-align: top;\n",
              "    }\n",
              "\n",
              "    .dataframe thead th {\n",
              "        text-align: right;\n",
              "    }\n",
              "</style>\n",
              "<table border=\"1\" class=\"dataframe\">\n",
              "  <thead>\n",
              "    <tr style=\"text-align: right;\">\n",
              "      <th></th>\n",
              "      <th>Lab Name</th>\n",
              "      <th>Lab Location</th>\n",
              "      <th>Phone Number</th>\n",
              "      <th>Contact</th>\n",
              "      <th>Email</th>\n",
              "      <th>City</th>\n",
              "    </tr>\n",
              "  </thead>\n",
              "  <tbody>\n",
              "    <tr>\n",
              "      <th>0</th>\n",
              "      <td>Accelerated Analytical Labs, Inc.</td>\n",
              "      <td>9075 W. Heather Ave. Milwaukee WI 53224 United...</td>\n",
              "      <td>(414) 409-3887</td>\n",
              "      <td>Paul Lillyroot</td>\n",
              "      <td>plillyroot@acceleratedlabs.com</td>\n",
              "      <td>Wisconsin</td>\n",
              "    </tr>\n",
              "    <tr>\n",
              "      <th>1</th>\n",
              "      <td>Accelerated Cannabis Testing (ACT)</td>\n",
              "      <td>9075 W. Heather Ave. Milwaukee WI 53224 United...</td>\n",
              "      <td>(414) 409-3887</td>\n",
              "      <td>Paul Lillyroot</td>\n",
              "      <td>plillyroot@acceleratedlabs.com</td>\n",
              "      <td>Wisconsin</td>\n",
              "    </tr>\n",
              "    <tr>\n",
              "      <th>2</th>\n",
              "      <td>AccuScience Laboratories</td>\n",
              "      <td>40 S Dewey Street Eustis FL 34726 United States</td>\n",
              "      <td>407-342-5755</td>\n",
              "      <td>Dr. Harry Behzadi, Ph.D., President/CEO</td>\n",
              "      <td>hbehzadi@accusciencelabs.com</td>\n",
              "      <td>Florida</td>\n",
              "    </tr>\n",
              "    <tr>\n",
              "      <th>3</th>\n",
              "      <td>ACS Laboratory LLC</td>\n",
              "      <td>721 Cortaro Drive  Sun City Center FL 33573 Un...</td>\n",
              "      <td>8136344529 ext.317</td>\n",
              "      <td>Yasmin Lee</td>\n",
              "      <td>ylee@acslabcannabis.com</td>\n",
              "      <td>Florida</td>\n",
              "    </tr>\n",
              "    <tr>\n",
              "      <th>4</th>\n",
              "      <td>Agrozen Laboratory</td>\n",
              "      <td>417 Ransdell Road Lebanon IN 46052 United States</td>\n",
              "      <td>844-655-6935</td>\n",
              "      <td>Brian Schroeder, CEO</td>\n",
              "      <td>lab@agrozen.com</td>\n",
              "      <td>Indiana</td>\n",
              "    </tr>\n",
              "    <tr>\n",
              "      <th>...</th>\n",
              "      <td>...</td>\n",
              "      <td>...</td>\n",
              "      <td>...</td>\n",
              "      <td>...</td>\n",
              "      <td>...</td>\n",
              "      <td>...</td>\n",
              "    </tr>\n",
              "    <tr>\n",
              "      <th>73</th>\n",
              "      <td>Universal Diagnostics, LLC</td>\n",
              "      <td>673 North Bardstown Road Mt. Washington KY 400...</td>\n",
              "      <td>(502) 444-2044</td>\n",
              "      <td>Daniel Burriss</td>\n",
              "      <td>d.burriss@ud-labs.com</td>\n",
              "      <td>Kentucky</td>\n",
              "    </tr>\n",
              "    <tr>\n",
              "      <th>74</th>\n",
              "      <td>US Pharma, Ltd.</td>\n",
              "      <td>13900 NW 57th Court  Miami Lakes  FL 33014 Uni...</td>\n",
              "      <td>(305) 698-4600, extension 4711</td>\n",
              "      <td>Nahomie Myrtil</td>\n",
              "      <td>nahomie.myrtil@uspharmaltd.com</td>\n",
              "      <td>Florida</td>\n",
              "    </tr>\n",
              "    <tr>\n",
              "      <th>75</th>\n",
              "      <td>Waters Agricultural Laboratories, Inc.</td>\n",
              "      <td>257 Newton Road Camilla GA 31730 United States</td>\n",
              "      <td>229-336-7216, Fax: 229-336-0977</td>\n",
              "      <td>Keith Dominey, CEO</td>\n",
              "      <td>info@watersag.com</td>\n",
              "      <td>Georgia</td>\n",
              "    </tr>\n",
              "    <tr>\n",
              "      <th>76</th>\n",
              "      <td>XenoBiotic Laboratories, Inc. | WuXi AppTec</td>\n",
              "      <td>107 Morgan Lane Plainsboro NJ 08536 United States</td>\n",
              "      <td>(609) 606-6620</td>\n",
              "      <td>Dennis Heller, Ph.D.</td>\n",
              "      <td>dennis_heller@wuxiapptec.com</td>\n",
              "      <td>New Jersey</td>\n",
              "    </tr>\n",
              "    <tr>\n",
              "      <th>77</th>\n",
              "      <td>ZOSI Analytical</td>\n",
              "      <td>111 Cooperative Way Georgetown TX 78626 United...</td>\n",
              "      <td>607-379-4565</td>\n",
              "      <td>Amy Lummus, CEO/President</td>\n",
              "      <td>alummus@zosianalytical.com</td>\n",
              "      <td>Texas</td>\n",
              "    </tr>\n",
              "  </tbody>\n",
              "</table>\n",
              "<p>78 rows × 6 columns</p>\n",
              "</div>\n",
              "      <button class=\"colab-df-convert\" onclick=\"convertToInteractive('df-644a29fc-0be9-438b-b493-1e98371c4bce')\"\n",
              "              title=\"Convert this dataframe to an interactive table.\"\n",
              "              style=\"display:none;\">\n",
              "        \n",
              "  <svg xmlns=\"http://www.w3.org/2000/svg\" height=\"24px\"viewBox=\"0 0 24 24\"\n",
              "       width=\"24px\">\n",
              "    <path d=\"M0 0h24v24H0V0z\" fill=\"none\"/>\n",
              "    <path d=\"M18.56 5.44l.94 2.06.94-2.06 2.06-.94-2.06-.94-.94-2.06-.94 2.06-2.06.94zm-11 1L8.5 8.5l.94-2.06 2.06-.94-2.06-.94L8.5 2.5l-.94 2.06-2.06.94zm10 10l.94 2.06.94-2.06 2.06-.94-2.06-.94-.94-2.06-.94 2.06-2.06.94z\"/><path d=\"M17.41 7.96l-1.37-1.37c-.4-.4-.92-.59-1.43-.59-.52 0-1.04.2-1.43.59L10.3 9.45l-7.72 7.72c-.78.78-.78 2.05 0 2.83L4 21.41c.39.39.9.59 1.41.59.51 0 1.02-.2 1.41-.59l7.78-7.78 2.81-2.81c.8-.78.8-2.07 0-2.86zM5.41 20L4 18.59l7.72-7.72 1.47 1.35L5.41 20z\"/>\n",
              "  </svg>\n",
              "      </button>\n",
              "      \n",
              "  <style>\n",
              "    .colab-df-container {\n",
              "      display:flex;\n",
              "      flex-wrap:wrap;\n",
              "      gap: 12px;\n",
              "    }\n",
              "\n",
              "    .colab-df-convert {\n",
              "      background-color: #E8F0FE;\n",
              "      border: none;\n",
              "      border-radius: 50%;\n",
              "      cursor: pointer;\n",
              "      display: none;\n",
              "      fill: #1967D2;\n",
              "      height: 32px;\n",
              "      padding: 0 0 0 0;\n",
              "      width: 32px;\n",
              "    }\n",
              "\n",
              "    .colab-df-convert:hover {\n",
              "      background-color: #E2EBFA;\n",
              "      box-shadow: 0px 1px 2px rgba(60, 64, 67, 0.3), 0px 1px 3px 1px rgba(60, 64, 67, 0.15);\n",
              "      fill: #174EA6;\n",
              "    }\n",
              "\n",
              "    [theme=dark] .colab-df-convert {\n",
              "      background-color: #3B4455;\n",
              "      fill: #D2E3FC;\n",
              "    }\n",
              "\n",
              "    [theme=dark] .colab-df-convert:hover {\n",
              "      background-color: #434B5C;\n",
              "      box-shadow: 0px 1px 3px 1px rgba(0, 0, 0, 0.15);\n",
              "      filter: drop-shadow(0px 1px 2px rgba(0, 0, 0, 0.3));\n",
              "      fill: #FFFFFF;\n",
              "    }\n",
              "  </style>\n",
              "\n",
              "      <script>\n",
              "        const buttonEl =\n",
              "          document.querySelector('#df-644a29fc-0be9-438b-b493-1e98371c4bce button.colab-df-convert');\n",
              "        buttonEl.style.display =\n",
              "          google.colab.kernel.accessAllowed ? 'block' : 'none';\n",
              "\n",
              "        async function convertToInteractive(key) {\n",
              "          const element = document.querySelector('#df-644a29fc-0be9-438b-b493-1e98371c4bce');\n",
              "          const dataTable =\n",
              "            await google.colab.kernel.invokeFunction('convertToInteractive',\n",
              "                                                     [key], {});\n",
              "          if (!dataTable) return;\n",
              "\n",
              "          const docLinkHtml = 'Like what you see? Visit the ' +\n",
              "            '<a target=\"_blank\" href=https://colab.research.google.com/notebooks/data_table.ipynb>data table notebook</a>'\n",
              "            + ' to learn more about interactive tables.';\n",
              "          element.innerHTML = '';\n",
              "          dataTable['output_type'] = 'display_data';\n",
              "          await google.colab.output.renderOutput(dataTable, element);\n",
              "          const docLink = document.createElement('div');\n",
              "          docLink.innerHTML = docLinkHtml;\n",
              "          element.appendChild(docLink);\n",
              "        }\n",
              "      </script>\n",
              "    </div>\n",
              "  </div>\n",
              "  "
            ],
            "text/plain": [
              "                                        Lab Name  ...                    City\n",
              "0             Accelerated Analytical Labs, Inc.   ...   Wisconsin            \n",
              "1            Accelerated Cannabis Testing (ACT)   ...   Wisconsin            \n",
              "2                      AccuScience Laboratories   ...     Florida            \n",
              "3                            ACS Laboratory LLC   ...     Florida            \n",
              "4                            Agrozen Laboratory   ...     Indiana            \n",
              "..                                           ...  ...                     ...\n",
              "73                   Universal Diagnostics, LLC   ...    Kentucky            \n",
              "74                              US Pharma, Ltd.   ...     Florida            \n",
              "75       Waters Agricultural Laboratories, Inc.   ...     Georgia            \n",
              "76  XenoBiotic Laboratories, Inc. | WuXi AppTec   ...  New Jersey            \n",
              "77                              ZOSI Analytical   ...       Texas            \n",
              "\n",
              "[78 rows x 6 columns]"
            ]
          },
          "metadata": {},
          "execution_count": 9
        }
      ]
    }
  ]
}